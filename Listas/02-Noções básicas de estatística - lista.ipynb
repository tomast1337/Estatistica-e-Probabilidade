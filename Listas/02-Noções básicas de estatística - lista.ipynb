{
 "cells": [
  {
   "cell_type": "code",
   "execution_count": 179,
   "metadata": {},
   "outputs": [],
   "source": [
    "import numpy as np\n",
    "import matplotlib.pyplot as plt\n",
    "import pandas as pd\n",
    "import seaborn as sns\n",
    "from IPython.display import Markdown as md\n"
   ]
  },
  {
   "cell_type": "markdown",
   "metadata": {},
   "source": [
    "# Questão 1"
   ]
  },
  {
   "cell_type": "code",
   "execution_count": 180,
   "metadata": {},
   "outputs": [
    {
     "data": {
      "text/html": [
       "<div>\n",
       "<style scoped>\n",
       "    .dataframe tbody tr th:only-of-type {\n",
       "        vertical-align: middle;\n",
       "    }\n",
       "\n",
       "    .dataframe tbody tr th {\n",
       "        vertical-align: top;\n",
       "    }\n",
       "\n",
       "    .dataframe thead th {\n",
       "        text-align: right;\n",
       "    }\n",
       "</style>\n",
       "<table border=\"1\" class=\"dataframe\">\n",
       "  <thead>\n",
       "    <tr style=\"text-align: right;\">\n",
       "      <th></th>\n",
       "      <th>funcionario</th>\n",
       "      <th>secao</th>\n",
       "      <th>administracao</th>\n",
       "      <th>direito</th>\n",
       "      <th>redacao</th>\n",
       "      <th>estatistica</th>\n",
       "      <th>ingles</th>\n",
       "      <th>metodologia</th>\n",
       "      <th>politica</th>\n",
       "      <th>economia</th>\n",
       "    </tr>\n",
       "  </thead>\n",
       "  <tbody>\n",
       "    <tr>\n",
       "      <th>0</th>\n",
       "      <td>1</td>\n",
       "      <td>P</td>\n",
       "      <td>8</td>\n",
       "      <td>9</td>\n",
       "      <td>8.6</td>\n",
       "      <td>9</td>\n",
       "      <td>B</td>\n",
       "      <td>A</td>\n",
       "      <td>9.0</td>\n",
       "      <td>8.5</td>\n",
       "    </tr>\n",
       "    <tr>\n",
       "      <th>1</th>\n",
       "      <td>2</td>\n",
       "      <td>P</td>\n",
       "      <td>8</td>\n",
       "      <td>9</td>\n",
       "      <td>7.0</td>\n",
       "      <td>9</td>\n",
       "      <td>B</td>\n",
       "      <td>C</td>\n",
       "      <td>6.5</td>\n",
       "      <td>8.0</td>\n",
       "    </tr>\n",
       "    <tr>\n",
       "      <th>2</th>\n",
       "      <td>3</td>\n",
       "      <td>P</td>\n",
       "      <td>8</td>\n",
       "      <td>9</td>\n",
       "      <td>8.0</td>\n",
       "      <td>8</td>\n",
       "      <td>D</td>\n",
       "      <td>B</td>\n",
       "      <td>9.0</td>\n",
       "      <td>8.5</td>\n",
       "    </tr>\n",
       "    <tr>\n",
       "      <th>3</th>\n",
       "      <td>4</td>\n",
       "      <td>P</td>\n",
       "      <td>6</td>\n",
       "      <td>9</td>\n",
       "      <td>8.6</td>\n",
       "      <td>8</td>\n",
       "      <td>D</td>\n",
       "      <td>C</td>\n",
       "      <td>6.0</td>\n",
       "      <td>8.5</td>\n",
       "    </tr>\n",
       "    <tr>\n",
       "      <th>4</th>\n",
       "      <td>5</td>\n",
       "      <td>P</td>\n",
       "      <td>8</td>\n",
       "      <td>9</td>\n",
       "      <td>8.0</td>\n",
       "      <td>9</td>\n",
       "      <td>A</td>\n",
       "      <td>A</td>\n",
       "      <td>6.5</td>\n",
       "      <td>9.0</td>\n",
       "    </tr>\n",
       "  </tbody>\n",
       "</table>\n",
       "</div>"
      ],
      "text/plain": [
       "   funcionario secao  administracao  direito  redacao  estatistica ingles  \\\n",
       "0            1     P              8        9      8.6            9      B   \n",
       "1            2     P              8        9      7.0            9      B   \n",
       "2            3     P              8        9      8.0            8      D   \n",
       "3            4     P              6        9      8.6            8      D   \n",
       "4            5     P              8        9      8.0            9      A   \n",
       "\n",
       "  metodologia  politica  economia  \n",
       "0           A       9.0       8.5  \n",
       "1           C       6.5       8.0  \n",
       "2           B       9.0       8.5  \n",
       "3           C       6.0       8.5  \n",
       "4           A       6.5       9.0  "
      ]
     },
     "execution_count": 180,
     "metadata": {},
     "output_type": "execute_result"
    }
   ],
   "source": [
    "# Funcionario\n",
    "funcionario = \"1,2,3,4,5,6,7,8,9,10,11,12,13,14,15,16,17,18,19,20,21,22,23,24,25\"\n",
    "funcionario = funcionario.split(\",\")\n",
    "funcionario = np.array(funcionario, dtype=int)\n",
    "\n",
    "# Seção\n",
    "secao = \"P,P,P,P,P,P,P,T,T,T,T,T,T,T,V,V,V,V,V,V,V,V,V,V,V\"\n",
    "secao = secao.split(\",\")\n",
    "secao = np.array(secao, dtype=str)\n",
    "\n",
    "# Administração\n",
    "administracao = \"8,8,8,6,8,8,8,10,8,10,8,8,6,10,8,8,8,6,6,6,8,6,8,8,8\"\n",
    "administracao = administracao.split(\",\")\n",
    "administracao = np.array(administracao, dtype=int)\n",
    "\n",
    "# Direito\n",
    "direito = \"9,9,9,9,9,9,9,9,9,9,9,9,9,9,9,9,9,9,9,9,9,9,9,9,9\"\n",
    "direito = direito.split(\",\")\n",
    "direito = np .array(direito, dtype=int)\n",
    "\n",
    "# Redação\n",
    "redacao = \"8.6,7,8,8.6,8,8.5,8.2,7.5,9.4,7.9,8.6,8.3,7,8.6,8.6,9.5,6.3,7.6,6.8,7.5,7.7,8.7,7.3,8.5,7\"\n",
    "redacao = redacao.split(\",\")\n",
    "redacao = np.array(redacao, dtype=float)\n",
    "\n",
    "# Estatistica\n",
    "estatistica = \"9,9,8,8,9,10,8,8,9,8,10,7,7,9,9,7,8,9,4,7,7,8,10,9,9\"\n",
    "estatistica = estatistica.split(\",\")\n",
    "estatistica = np.array(estatistica, dtype=int)\n",
    "\n",
    "# Inglês\n",
    "\n",
    "ingles = \"B,B,D,D,A,B,D,B,B,B,C,D,B,A,C,A,D,C,D,C,D,C,C,A,B\"\n",
    "ingles = ingles.split(\",\")\n",
    "ingles = np.array(ingles, dtype=str)\n",
    "\n",
    "# Metodologia\n",
    "\n",
    "metodologia = \"A,C,B,C,A,A,C,C,B,C,B,B,C,B,B,A,C,C,C,B,B,A,C,A,A\"\n",
    "metodologia = metodologia.split(\",\")\n",
    "metodologia = np.array(metodologia, dtype=str)\n",
    "\n",
    "# Politica\n",
    "politica = \"9,6.5,9,6,6.5,6.5,9,6,10,9,10,6.5,6,10,10,9,10,6,6,6,6.5,6,9,6.5,9\"\n",
    "politica = politica.split(\",\")\n",
    "politica = np.array(politica, dtype=float)\n",
    "# Economia\n",
    "economia = \"8.5,8,8.5,8.5,9,9.5,7,8.5,8,7.5,8.5,8,8.5,8,8.5,7.5,7,7.5,7.5,8.5,8,9,7,9,8.5\"\n",
    "economia = economia.split(\",\")\n",
    "economia = np.array(economia, dtype=float)\n",
    "\n",
    "data = pd.DataFrame({\n",
    "    \"funcionario\": funcionario,\n",
    "    \"secao\": secao,\n",
    "    \"administracao\": administracao,\n",
    "    \"direito\": direito,\n",
    "    \"redacao\": redacao,\n",
    "    \"estatistica\": estatistica,\n",
    "    \"ingles\": ingles,\n",
    "    \"metodologia\": metodologia,\n",
    "    \"politica\": politica,\n",
    "    \"economia\": economia\n",
    "})\n",
    "data.head()"
   ]
  },
  {
   "cell_type": "markdown",
   "metadata": {},
   "source": [
    "### A) Após observar atentamente cada variável, e com o intuito de resumi-las, como voces identificaria (qualitativa ordinal ou nominal e quantitativa discreta ou contínua cada uma das 9 variáveis listadas?"
   ]
  },
  {
   "cell_type": "code",
   "execution_count": 181,
   "metadata": {},
   "outputs": [
    {
     "data": {
      "text/markdown": [
       "\n",
       "- Funcionario: Qualitativa Nominal\n",
       "\n",
       "- Seção: Qualitativa Nominal\n",
       "\n",
       "- Administração: Quantitativa Discreta\n",
       "\n",
       "- Direito: Quantitativa Discreta\n",
       "\n",
       "- Redação: Quantitativa Continua\n",
       "\n",
       "- Estatistica: Quantitativa Discreta\n",
       "\n",
       "- Ingles: Quantitativa Ordinal\n",
       "\n",
       "- Metodologia: Quantitativa Ordinal\n",
       "\n",
       "- Politica: Quantitativa Discreta\n",
       "\n",
       "- Economia: Quantitativa Continua\n"
      ],
      "text/plain": [
       "<IPython.core.display.Markdown object>"
      ]
     },
     "execution_count": 181,
     "metadata": {},
     "output_type": "execute_result"
    }
   ],
   "source": [
    "md(\"\"\"\n",
    "- Funcionario: Qualitativa Nominal\n",
    "\n",
    "- Seção: Qualitativa Nominal\n",
    "\n",
    "- Administração: Quantitativa Discreta\n",
    "\n",
    "- Direito: Quantitativa Discreta\n",
    "\n",
    "- Redação: Quantitativa Continua\n",
    "\n",
    "- Estatistica: Quantitativa Discreta\n",
    "\n",
    "- Ingles: Quantitativa Ordinal\n",
    "\n",
    "- Metodologia: Quantitativa Ordinal\n",
    "\n",
    "- Politica: Quantitativa Discreta\n",
    "\n",
    "- Economia: Quantitativa Continua\n",
    "\"\"\")"
   ]
  },
  {
   "cell_type": "markdown",
   "metadata": {},
   "source": [
    "### B) Construa o histograma para as notas da variável Redação."
   ]
  },
  {
   "cell_type": "code",
   "execution_count": 182,
   "metadata": {},
   "outputs": [
    {
     "data": {
      "image/png": "[encoded data removed]",
      "text/plain": [
       "<Figure size 432x288 with 1 Axes>"
      ]
     },
     "metadata": {},
     "output_type": "display_data"
    }
   ],
   "source": [
    "# histograma redação\n",
    "plt.hist(redacao, bins=10)\n",
    "plt.title(\"Histograma da Redação\")\n",
    "plt.xlabel(\"Nota\")\n",
    "plt.ylabel(\"Frequência\")\n",
    "plt.show()\n"
   ]
  },
  {
   "cell_type": "markdown",
   "metadata": {},
   "source": [
    "### C) Sorteado ao acaso um dos 25 funcionários, qual é a probabilidade de que ele tenha obtido grau A em Metodologia?"
   ]
  },
  {
   "cell_type": "code",
   "execution_count": 183,
   "metadata": {},
   "outputs": [
    {
     "data": {
      "text/markdown": [
       "\n",
       "## 28.0% de funcionários obtiveram grau A em Metodologia \n",
       "\n",
       "## 32.0% de funcionários obtiveram grau B em Metodologia\"\n",
       "\n",
       "## 40.0% de funcionários obtiveram grau C em Metodologia\n"
      ],
      "text/plain": [
       "<IPython.core.display.Markdown object>"
      ]
     },
     "execution_count": 183,
     "metadata": {},
     "output_type": "execute_result"
    }
   ],
   "source": [
    "# Sorteado ao acaso um dos 25 funcionários, qual é a probabilidade de que ele tenha obtido grau A em Metodologia?\n",
    "A = (data[\"metodologia\"].value_counts()[\"A\"] /\n",
    "     len(data[\"metodologia\"]) * 100).round(2)\n",
    "B = (data[\"metodologia\"].value_counts()[\"B\"] /\n",
    "     len(data[\"metodologia\"]) * 100).round(2)\n",
    "C = (data[\"metodologia\"].value_counts()[\"C\"] /\n",
    "     len(data[\"metodologia\"]) * 100).round(2)\n",
    "\n",
    "md(f\"\"\"\n",
    "## { A }% de funcionários obtiveram grau A em Metodologia \n",
    "\n",
    "## { B }% de funcionários obtiveram grau B em Metodologia\"\n",
    "\n",
    "## { C }% de funcionários obtiveram grau C em Metodologia\n",
    "\"\"\")"
   ]
  },
  {
   "cell_type": "markdown",
   "metadata": {},
   "source": [
    "2)Um questionário foi aplicado aos dez funcionários do setor de contabilidade de uma empresa fornecendo os dados apresentados na tabela."
   ]
  },
  {
   "cell_type": "code",
   "execution_count": 184,
   "metadata": {},
   "outputs": [
    {
     "data": {
      "text/html": [
       "<div>\n",
       "<style scoped>\n",
       "    .dataframe tbody tr th:only-of-type {\n",
       "        vertical-align: middle;\n",
       "    }\n",
       "\n",
       "    .dataframe tbody tr th {\n",
       "        vertical-align: top;\n",
       "    }\n",
       "\n",
       "    .dataframe thead th {\n",
       "        text-align: right;\n",
       "    }\n",
       "</style>\n",
       "<table border=\"1\" class=\"dataframe\">\n",
       "  <thead>\n",
       "    <tr style=\"text-align: right;\">\n",
       "      <th></th>\n",
       "      <th>Func</th>\n",
       "      <th>Curso completo</th>\n",
       "      <th>Idade</th>\n",
       "      <th>Salario</th>\n",
       "      <th>Anos de empresa</th>\n",
       "    </tr>\n",
       "  </thead>\n",
       "  <tbody>\n",
       "    <tr>\n",
       "      <th>0</th>\n",
       "      <td>1</td>\n",
       "      <td>superior</td>\n",
       "      <td>34</td>\n",
       "      <td>1100</td>\n",
       "      <td>5</td>\n",
       "    </tr>\n",
       "    <tr>\n",
       "      <th>1</th>\n",
       "      <td>2</td>\n",
       "      <td>superior</td>\n",
       "      <td>43</td>\n",
       "      <td>1450</td>\n",
       "      <td>8</td>\n",
       "    </tr>\n",
       "    <tr>\n",
       "      <th>2</th>\n",
       "      <td>3</td>\n",
       "      <td>médio</td>\n",
       "      <td>31</td>\n",
       "      <td>960</td>\n",
       "      <td>6</td>\n",
       "    </tr>\n",
       "    <tr>\n",
       "      <th>3</th>\n",
       "      <td>4</td>\n",
       "      <td>médio</td>\n",
       "      <td>37</td>\n",
       "      <td>960</td>\n",
       "      <td>8</td>\n",
       "    </tr>\n",
       "    <tr>\n",
       "      <th>4</th>\n",
       "      <td>5</td>\n",
       "      <td>médio</td>\n",
       "      <td>24</td>\n",
       "      <td>600</td>\n",
       "      <td>3</td>\n",
       "    </tr>\n",
       "  </tbody>\n",
       "</table>\n",
       "</div>"
      ],
      "text/plain": [
       "   Func Curso completo  Idade  Salario  Anos de empresa\n",
       "0     1       superior     34     1100                5\n",
       "1     2       superior     43     1450                8\n",
       "2     3          médio     31      960                6\n",
       "3     4          médio     37      960                8\n",
       "4     5          médio     24      600                3"
      ]
     },
     "execution_count": 184,
     "metadata": {},
     "output_type": "execute_result"
    }
   ],
   "source": [
    "Func  = \"1,2,3,4,5,6,7,8,9,10\"\n",
    "Func = Func.split(\",\")\n",
    "Func = np.array(Func, dtype=int)\n",
    "\n",
    "Curso_completo = \"superior,superior,médio,médio,médio,médio,médio,médio,fundamental,fundamental\"\n",
    "Curso_completo = Curso_completo.split(\",\")\n",
    "Curso_completo = np.array(Curso_completo, dtype=str)\n",
    "\n",
    "Idade = \"34,43,31,37,24,25,27,22,21,26\"\n",
    "Idade = Idade.split(\",\")\n",
    "Idade = np.array(Idade, dtype=int)\n",
    "\n",
    "Salario = \"1100,1450,960,960,600,600,600,450,450,450\"\n",
    "Salario = Salario.split(\",\")\n",
    "Salario = np.array(Salario, dtype=int)\n",
    "\n",
    "Anos_de_empresa = \"5,8,6,8,3,2,5,2,3,3\"\n",
    "Anos_de_empresa = Anos_de_empresa.split(\",\")\n",
    "Anos_de_empresa = np.array(Anos_de_empresa, dtype=int)\n",
    "\n",
    "data = pd.DataFrame({\n",
    "    \"Func\": Func,\n",
    "    \"Curso completo\": Curso_completo,\n",
    "    \"Idade\": Idade,\n",
    "    \"Salario\": Salario,\n",
    "    \"Anos de empresa\": Anos_de_empresa\n",
    "})\n",
    "data.head()"
   ]
  },
  {
   "cell_type": "markdown",
   "metadata": {},
   "source": [
    "### a. Classifique cada uma das variáveis"
   ]
  },
  {
   "cell_type": "code",
   "execution_count": 185,
   "metadata": {},
   "outputs": [
    {
     "data": {
      "text/markdown": [
       "\n",
       "- Funcionario: Qualitativa Nominal\n",
       "\n",
       "- Curso completo: Qualitativa Ordinal\n",
       "\n",
       "- Idade: Quantitativa Discreta\n",
       "\n",
       "- Salario: Quantitativa Continua\n",
       "\n",
       "- Anos de empresa: Quantitativa Discreta\n"
      ],
      "text/plain": [
       "<IPython.core.display.Markdown object>"
      ]
     },
     "execution_count": 185,
     "metadata": {},
     "output_type": "execute_result"
    }
   ],
   "source": [
    "md(\"\"\"\n",
    "- Funcionario: Qualitativa Nominal\n",
    "\n",
    "- Curso completo: Qualitativa Ordinal\n",
    "\n",
    "- Idade: Quantitativa Discreta\n",
    "\n",
    "- Salario: Quantitativa Continua\n",
    "\n",
    "- Anos de empresa: Quantitativa Discreta\n",
    "\"\"\")"
   ]
  },
  {
   "cell_type": "markdown",
   "metadata": {},
   "source": [
    "### b. Faça uma representação gráfica para a variável curso"
   ]
  },
  {
   "cell_type": "code",
   "execution_count": 186,
   "metadata": {},
   "outputs": [
    {
     "data": {
      "image/png": "[encoded data removed]",
      "text/plain": [
       "<Figure size 720x720 with 1 Axes>"
      ]
     },
     "metadata": {},
     "output_type": "display_data"
    }
   ],
   "source": [
    "data.groupby(\"Curso completo\").size()\n",
    "data.groupby(\"Curso completo\").size().plot.pie(autopct=\"%1.1f%%\",figsize=(10, 10))\n",
    "plt.title(\"Curso completo\")\n",
    "plt.show()\n"
   ]
  },
  {
   "cell_type": "markdown",
   "metadata": {},
   "source": [
    "### c. Discuta a melhor forma de construir a tabela de frequência para a variável idade. Construa uma representação gráfica. "
   ]
  },
  {
   "cell_type": "code",
   "execution_count": 187,
   "metadata": {},
   "outputs": [
    {
     "data": {
      "image/png": "[encoded data removed]",
      "text/plain": [
       "<Figure size 720x360 with 1 Axes>"
      ]
     },
     "metadata": {},
     "output_type": "display_data"
    }
   ],
   "source": [
    "# Tabela de frequência de idade\n",
    "plt.figure(figsize=(10, 5))\n",
    "plt.title(\"Idade\")\n",
    "plt.xlabel(\"Idade\")\n",
    "plt.ylabel(\"Frequência\")\n",
    "data[\"Idade\"].value_counts().plot.bar()\n",
    "plt.show()\n"
   ]
  },
  {
   "cell_type": "markdown",
   "metadata": {},
   "source": [
    "### d. Considerando apenas os funcionários com mais de trees anos de casa, descreva o comportamento da variável Salario."
   ]
  },
  {
   "cell_type": "code",
   "execution_count": 188,
   "metadata": {},
   "outputs": [
    {
     "data": {
      "image/png": "[encoded data removed]",
      "text/plain": [
       "<Figure size 432x288 with 1 Axes>"
      ]
     },
     "metadata": {},
     "output_type": "display_data"
    }
   ],
   "source": [
    "### d. Considerando apenas os funcionários com mais de trees anos de casa, descreva o comportamento da variável Salario.\n",
    "data[data[\"Anos de empresa\"] > 3][\"Salario\"].value_counts().plot.bar()\n",
    "plt.title(\"Salario\")\n",
    "plt.xlabel(\"Salario\")\n",
    "plt.ylabel(\"Frequência\")\n",
    "plt.show()\n",
    "\n"
   ]
  },
  {
   "cell_type": "markdown",
   "metadata": {},
   "source": [
    "### 3) Responda certo ou errado, justificando:\n",
    "\n",
    "a. Suponha duas amostras colhidas de uma mesma populaça o, sendo\n",
    "uma de tamanho 100 e outra de tamanho 200. Então, a amostra de\n",
    "tamanho maior é mais representativa da população.\n",
    "\n",
    "Resposta: \n",
    "\n",
    "b. Duas variáveis com valores diferentes podem apresentar\n",
    "histogramas iguais.\n",
    "\n",
    "Resposta: \n",
    "\n",
    "c. Duas variáveis com box-plot iguais naã o podem ter valores\n",
    "diferentes.\n",
    "\n",
    "Resposta: "
   ]
  },
  {
   "cell_type": "markdown",
   "metadata": {},
   "source": [
    "### 4) Uma pesquisa com usuários de transporte coletivo na cidade de São Paulo indagou sobre os diferentes tipos usados nas suas locomoções diárias.\n",
    "\n",
    "Dentre ônibus, metrô e trem, o numero de diferentes meios de transporte utilizados foi o seguinte:\n",
    "```\n",
    "2, 3, 2, 1, 2, 1, 2, 1, 2, 3, 1, 1, 1, 2, 2, 3, 1, 1, 1, 1, 2, 1, 2,1, 2, 2, 1, 2, 1, 2 e 3.\n",
    "```\n",
    "\n",
    "### a. Organize uma tabela de frequência."
   ]
  },
  {
   "cell_type": "code",
   "execution_count": 189,
   "metadata": {},
   "outputs": [],
   "source": [
    "trasportes = \"2, 3, 2, 1, 2, 1, 2, 1, 2, 3, 1, 1, 1, 2, 2, 3, 1, 1, 1, 1, 2, 1, 2,1, 2, 2, 1, 2, 1, 2, 3\"\n",
    "trasportes = trasportes.split(\",\")\n",
    "trasportes = np.array(trasportes, dtype=int)\n",
    "\n",
    "relação = { # ignore esse dicionario burro\n",
    "    1: \"1 Trasporte\",\n",
    "    2: \"2 Trasportes\",\n",
    "    3: \"3 Trasportes\"\n",
    "}\n",
    "\n",
    "frequencia = trasportes.var\n",
    "# data frame de frequências\n",
    "data = pd.DataFrame({\n",
    "    \"trasportes\": relação.values(),\n",
    "    \"frequencia\": pd.DataFrame({ \"trasportes\": trasportes, })[\"trasportes\"].value_counts()\n",
    "})"
   ]
  },
  {
   "cell_type": "markdown",
   "metadata": {},
   "source": [
    "### b. Faça uma representação gráfica."
   ]
  },
  {
   "cell_type": "code",
   "execution_count": 190,
   "metadata": {},
   "outputs": [
    {
     "data": {
      "image/png": "[encoded data removed]",
      "text/plain": [
       "<Figure size 432x288 with 1 Axes>"
      ]
     },
     "metadata": {},
     "output_type": "display_data"
    },
    {
     "name": "stdout",
     "output_type": "stream",
     "text": [
      "     trasportes  frequencia\n",
      "1   1 Trasporte   45.161290\n",
      "2  2 Trasportes   41.935484\n",
      "3  3 Trasportes   12.903226\n"
     ]
    }
   ],
   "source": [
    "data.plot.bar(x=\"trasportes\", y=\"frequencia\")\n",
    "plt.title(\"Trasportes\")\n",
    "plt.xlabel(\"Trasportes\")\n",
    "plt.ylabel(\"Frequência\")\n",
    "plt.show()\n",
    "# quais são as porcentagens gráfico de setores\n",
    "data[\"frequencia\"] = data[\"frequencia\"] / sum(data[\"frequencia\"]) * 100\n",
    "print(data)\n"
   ]
  },
  {
   "cell_type": "markdown",
   "metadata": {},
   "source": [
    "### c. Admitindo que essa amostra represente bem o comportamento do usuário paulistano, voces acha que a porcentagem dos usuários que utilizam mais de um tipo de transporte é grande?\n",
    "\n",
    "Resposta: Os que utilizam um tipo de trasporte são 14, 45%, e os que utilizam 2 e 3 são 13 e 4 respectivamente, ficando juntos 17, 53%, então, sim um pouco mais do que a metade."
   ]
  },
  {
   "cell_type": "markdown",
   "metadata": {},
   "source": [
    "### 5) Um novo medicamento para cicatrização esta sendo testado e um experimento é feito para estudar o tempo (em dias) de completo fechamento em cortes provenientes de cirurgia.\n",
    "#### Uma amostra em trinta cobaias forneceu os valores:\n",
    "\n",
    "```15, 17, 16, 15, 17, 14, 17, 16, 16, 17, 15, 18, 14, 17, 15, 14, 15, 16, 17, 18, 18, 17, 15, 16, 14, 18, 18, 16, 15 e 14.```\n",
    "\n",
    "### a. Organize uma tabela de frequência."
   ]
  },
  {
   "cell_type": "code",
   "execution_count": 191,
   "metadata": {},
   "outputs": [
    {
     "data": {
      "text/html": [
       "<div>\n",
       "<style scoped>\n",
       "    .dataframe tbody tr th:only-of-type {\n",
       "        vertical-align: middle;\n",
       "    }\n",
       "\n",
       "    .dataframe tbody tr th {\n",
       "        vertical-align: top;\n",
       "    }\n",
       "\n",
       "    .dataframe thead th {\n",
       "        text-align: right;\n",
       "    }\n",
       "</style>\n",
       "<table border=\"1\" class=\"dataframe\">\n",
       "  <thead>\n",
       "    <tr style=\"text-align: right;\">\n",
       "      <th></th>\n",
       "      <th>dia</th>\n",
       "      <th>frequencia</th>\n",
       "    </tr>\n",
       "  </thead>\n",
       "  <tbody>\n",
       "    <tr>\n",
       "      <th>0</th>\n",
       "      <td>15</td>\n",
       "      <td>7</td>\n",
       "    </tr>\n",
       "    <tr>\n",
       "      <th>1</th>\n",
       "      <td>17</td>\n",
       "      <td>7</td>\n",
       "    </tr>\n",
       "    <tr>\n",
       "      <th>2</th>\n",
       "      <td>16</td>\n",
       "      <td>6</td>\n",
       "    </tr>\n",
       "    <tr>\n",
       "      <th>3</th>\n",
       "      <td>14</td>\n",
       "      <td>5</td>\n",
       "    </tr>\n",
       "    <tr>\n",
       "      <th>4</th>\n",
       "      <td>18</td>\n",
       "      <td>5</td>\n",
       "    </tr>\n",
       "  </tbody>\n",
       "</table>\n",
       "</div>"
      ],
      "text/plain": [
       "   dia  frequencia\n",
       "0   15           7\n",
       "1   17           7\n",
       "2   16           6\n",
       "3   14           5\n",
       "4   18           5"
      ]
     },
     "execution_count": 191,
     "metadata": {},
     "output_type": "execute_result"
    }
   ],
   "source": [
    "dados = \"15, 17, 16, 15, 17, 14, 17, 16, 16, 17, 15, 18, 14, 17, 15, 14, 15, 16, 17, 18, 18, 17, 15, 16, 14, 18, 18, 16, 15, 14\"\n",
    "dados = dados.split(\",\")\n",
    "dados = np.array(dados, dtype=int)\n",
    "dados = pd.DataFrame({ \"dia\": dados, })[\"dia\"].value_counts()\n",
    "dados = pd.DataFrame({ \"dia\": dados.index, \"frequencia\": dados.values })\n",
    "dados\n"
   ]
  },
  {
   "cell_type": "markdown",
   "metadata": {},
   "source": [
    "### b. Que porcentagem das observações estão abaixo de 16 dias?"
   ]
  },
  {
   "cell_type": "code",
   "execution_count": 192,
   "metadata": {},
   "outputs": [
    {
     "data": {
      "text/markdown": [
       "## 40.0% de observações estão abaixo de 16 dias"
      ],
      "text/plain": [
       "<IPython.core.display.Markdown object>"
      ]
     },
     "execution_count": 192,
     "metadata": {},
     "output_type": "execute_result"
    }
   ],
   "source": [
    "## Que porcentagem das observações estão abaixo de 16 dias?\n",
    "porcentagem = dados[dados[\"dia\"] < 16][\"frequencia\"].sum() / dados[\"frequencia\"].sum() * 100\n",
    "md(f\"## { porcentagem.round(2) }% de observações estão abaixo de 16 dias\")"
   ]
  },
  {
   "cell_type": "markdown",
   "metadata": {},
   "source": [
    "### c. Classifique como rápida as cicatrizações iguais ou inferiores a 15 dias e como lenta as demais. Faça um diagrama circular indicando as porcentagens para cada classificação."
   ]
  },
  {
   "cell_type": "code",
   "execution_count": 193,
   "metadata": {},
   "outputs": [
    {
     "data": {
      "text/html": [
       "<div>\n",
       "<style scoped>\n",
       "    .dataframe tbody tr th:only-of-type {\n",
       "        vertical-align: middle;\n",
       "    }\n",
       "\n",
       "    .dataframe tbody tr th {\n",
       "        vertical-align: top;\n",
       "    }\n",
       "\n",
       "    .dataframe thead th {\n",
       "        text-align: right;\n",
       "    }\n",
       "</style>\n",
       "<table border=\"1\" class=\"dataframe\">\n",
       "  <thead>\n",
       "    <tr style=\"text-align: right;\">\n",
       "      <th></th>\n",
       "      <th>dia</th>\n",
       "      <th>frequencia</th>\n",
       "      <th>classificação</th>\n",
       "    </tr>\n",
       "  </thead>\n",
       "  <tbody>\n",
       "    <tr>\n",
       "      <th>0</th>\n",
       "      <td>15</td>\n",
       "      <td>7</td>\n",
       "      <td>lenta</td>\n",
       "    </tr>\n",
       "    <tr>\n",
       "      <th>1</th>\n",
       "      <td>17</td>\n",
       "      <td>7</td>\n",
       "      <td>rápida</td>\n",
       "    </tr>\n",
       "    <tr>\n",
       "      <th>2</th>\n",
       "      <td>16</td>\n",
       "      <td>6</td>\n",
       "      <td>rápida</td>\n",
       "    </tr>\n",
       "    <tr>\n",
       "      <th>3</th>\n",
       "      <td>14</td>\n",
       "      <td>5</td>\n",
       "      <td>lenta</td>\n",
       "    </tr>\n",
       "    <tr>\n",
       "      <th>4</th>\n",
       "      <td>18</td>\n",
       "      <td>5</td>\n",
       "      <td>rápida</td>\n",
       "    </tr>\n",
       "  </tbody>\n",
       "</table>\n",
       "</div>"
      ],
      "text/plain": [
       "   dia  frequencia classificação\n",
       "0   15           7         lenta\n",
       "1   17           7        rápida\n",
       "2   16           6        rápida\n",
       "3   14           5         lenta\n",
       "4   18           5        rápida"
      ]
     },
     "execution_count": 193,
     "metadata": {},
     "output_type": "execute_result"
    }
   ],
   "source": [
    "# c. Classifique como rápida as cicatrizações iguais ou inferiores a 15 dias e como lenta as demais.\n",
    "for i in dados.index:\n",
    "    if dados.loc[i, \"dia\"] > 15:\n",
    "        dados.loc[i, \"classificação\"] = \"rápida\"\n",
    "    else:\n",
    "        dados.loc[i, \"classificação\"] = \"lenta\"\n",
    "dados.head()\n"
   ]
  },
  {
   "cell_type": "code",
   "execution_count": 195,
   "metadata": {},
   "outputs": [
    {
     "data": {
      "image/png": "[encoded data removed]",
      "text/plain": [
       "<Figure size 720x720 with 1 Axes>"
      ]
     },
     "metadata": {},
     "output_type": "display_data"
    }
   ],
   "source": [
    "# Faça um diagrama circular indicando as porcentagens para cada classificação.\n",
    "dados.groupby(\"classificação\").size().plot.pie(autopct=\"%1.1f%%\",figsize=(10, 10))\n",
    "plt.title(\"Classificação\")\n",
    "plt.show()"
   ]
  }
 ],
 "metadata": {
  "interpreter": {
   "hash": "e7370f93d1d0cde622a1f8e1c04877d8463912d04d973331ad4851f04de6915a"
  },
  "kernelspec": {
   "display_name": "Python 3.10.4 64-bit",
   "language": "python",
   "name": "python3"
  },
  "language_info": {
   "codemirror_mode": {
    "name": "ipython",
    "version": 3
   },
   "file_extension": ".py",
   "mimetype": "text/x-python",
   "name": "python",
   "nbconvert_exporter": "python",
   "pygments_lexer": "ipython3",
   "version": "3.10.4"
  },
  "orig_nbformat": 4
 },
 "nbformat": 4,
 "nbformat_minor": 2
}
