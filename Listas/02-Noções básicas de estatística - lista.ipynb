{
 "cells": [
  {
   "cell_type": "code",
   "execution_count": 35,
   "metadata": {},
   "outputs": [],
   "source": [
    "import numpy as np\n",
    "import matplotlib.pyplot as plt\n",
    "import pandas as pd\n",
    "import seaborn as sns\n",
    "from IPython.display import Markdown as md\n"
   ]
  },
  {
   "cell_type": "markdown",
   "metadata": {},
   "source": [
    "# Questão 1"
   ]
  },
  {
   "cell_type": "code",
   "execution_count": 38,
   "metadata": {},
   "outputs": [
    {
     "data": {
      "text/html": [
       "<div>\n",
       "<style scoped>\n",
       "    .dataframe tbody tr th:only-of-type {\n",
       "        vertical-align: middle;\n",
       "    }\n",
       "\n",
       "    .dataframe tbody tr th {\n",
       "        vertical-align: top;\n",
       "    }\n",
       "\n",
       "    .dataframe thead th {\n",
       "        text-align: right;\n",
       "    }\n",
       "</style>\n",
       "<table border=\"1\" class=\"dataframe\">\n",
       "  <thead>\n",
       "    <tr style=\"text-align: right;\">\n",
       "      <th></th>\n",
       "      <th>funcionario</th>\n",
       "      <th>secao</th>\n",
       "      <th>administracao</th>\n",
       "      <th>direito</th>\n",
       "      <th>redacao</th>\n",
       "      <th>estatistica</th>\n",
       "      <th>ingles</th>\n",
       "      <th>metodologia</th>\n",
       "      <th>politica</th>\n",
       "      <th>economia</th>\n",
       "    </tr>\n",
       "  </thead>\n",
       "  <tbody>\n",
       "    <tr>\n",
       "      <th>0</th>\n",
       "      <td>1</td>\n",
       "      <td>P</td>\n",
       "      <td>8</td>\n",
       "      <td>9</td>\n",
       "      <td>8.6</td>\n",
       "      <td>9</td>\n",
       "      <td>B</td>\n",
       "      <td>A</td>\n",
       "      <td>9.0</td>\n",
       "      <td>8.5</td>\n",
       "    </tr>\n",
       "    <tr>\n",
       "      <th>1</th>\n",
       "      <td>2</td>\n",
       "      <td>P</td>\n",
       "      <td>8</td>\n",
       "      <td>9</td>\n",
       "      <td>7.0</td>\n",
       "      <td>9</td>\n",
       "      <td>B</td>\n",
       "      <td>C</td>\n",
       "      <td>6.5</td>\n",
       "      <td>8.0</td>\n",
       "    </tr>\n",
       "    <tr>\n",
       "      <th>2</th>\n",
       "      <td>3</td>\n",
       "      <td>P</td>\n",
       "      <td>8</td>\n",
       "      <td>9</td>\n",
       "      <td>8.0</td>\n",
       "      <td>8</td>\n",
       "      <td>D</td>\n",
       "      <td>B</td>\n",
       "      <td>9.0</td>\n",
       "      <td>8.5</td>\n",
       "    </tr>\n",
       "    <tr>\n",
       "      <th>3</th>\n",
       "      <td>4</td>\n",
       "      <td>P</td>\n",
       "      <td>6</td>\n",
       "      <td>9</td>\n",
       "      <td>8.6</td>\n",
       "      <td>8</td>\n",
       "      <td>D</td>\n",
       "      <td>C</td>\n",
       "      <td>6.0</td>\n",
       "      <td>8.5</td>\n",
       "    </tr>\n",
       "    <tr>\n",
       "      <th>4</th>\n",
       "      <td>5</td>\n",
       "      <td>P</td>\n",
       "      <td>8</td>\n",
       "      <td>9</td>\n",
       "      <td>8.0</td>\n",
       "      <td>9</td>\n",
       "      <td>A</td>\n",
       "      <td>A</td>\n",
       "      <td>6.5</td>\n",
       "      <td>9.0</td>\n",
       "    </tr>\n",
       "  </tbody>\n",
       "</table>\n",
       "</div>"
      ],
      "text/plain": [
       "   funcionario secao  administracao  direito  redacao  estatistica ingles  \\\n",
       "0            1     P              8        9      8.6            9      B   \n",
       "1            2     P              8        9      7.0            9      B   \n",
       "2            3     P              8        9      8.0            8      D   \n",
       "3            4     P              6        9      8.6            8      D   \n",
       "4            5     P              8        9      8.0            9      A   \n",
       "\n",
       "  metodologia  politica  economia  \n",
       "0           A       9.0       8.5  \n",
       "1           C       6.5       8.0  \n",
       "2           B       9.0       8.5  \n",
       "3           C       6.0       8.5  \n",
       "4           A       6.5       9.0  "
      ]
     },
     "execution_count": 38,
     "metadata": {},
     "output_type": "execute_result"
    }
   ],
   "source": [
    "# Funcionario\n",
    "funcionario = \"1,2,3,4,5,6,7,8,9,10,11,12,13,14,15,16,17,18,19,20,21,22,23,24,25\"\n",
    "funcionario = funcionario.split(\",\")\n",
    "funcionario = np.array(funcionario, dtype=int)\n",
    "\n",
    "# Seção\n",
    "secao = \"P,P,P,P,P,P,P,T,T,T,T,T,T,T,V,V,V,V,V,V,V,V,V,V,V\"\n",
    "secao = secao.split(\",\")\n",
    "secao = np.array(secao, dtype=str)\n",
    "\n",
    "# Administração\n",
    "administracao = \"8,8,8,6,8,8,8,10,8,10,8,8,6,10,8,8,8,6,6,6,8,6,8,8,8\"\n",
    "administracao = administracao.split(\",\")\n",
    "administracao = np.array(administracao, dtype=int)\n",
    "\n",
    "# Direito\n",
    "direito = \"9,9,9,9,9,9,9,9,9,9,9,9,9,9,9,9,9,9,9,9,9,9,9,9,9\"\n",
    "direito = direito.split(\",\")\n",
    "direito = np .array(direito, dtype=int)\n",
    "\n",
    "# Redação\n",
    "redacao = \"8.6,7,8,8.6,8,8.5,8.2,7.5,9.4,7.9,8.6,8.3,7,8.6,8.6,9.5,6.3,7.6,6.8,7.5,7.7,8.7,7.3,8.5,7\"\n",
    "redacao = redacao.split(\",\")\n",
    "redacao = np.array(redacao, dtype=float)\n",
    "\n",
    "# Estatistica\n",
    "estatistica = \"9,9,8,8,9,10,8,8,9,8,10,7,7,9,9,7,8,9,4,7,7,8,10,9,9\"\n",
    "estatistica = estatistica.split(\",\")\n",
    "estatistica = np.array(estatistica, dtype=int)\n",
    "\n",
    "# Inglês\n",
    "\n",
    "ingles = \"B,B,D,D,A,B,D,B,B,B,C,D,B,A,C,A,D,C,D,C,D,C,C,A,B\"\n",
    "ingles = ingles.split(\",\")\n",
    "ingles = np.array(ingles, dtype=str)\n",
    "\n",
    "# Metodologia\n",
    "\n",
    "metodologia = \"A,C,B,C,A,A,C,C,B,C,B,B,C,B,B,A,C,C,C,B,B,A,C,A,A\"\n",
    "metodologia = metodologia.split(\",\")\n",
    "metodologia = np.array(metodologia, dtype=str)\n",
    "\n",
    "# Politica\n",
    "politica = \"9,6.5,9,6,6.5,6.5,9,6,10,9,10,6.5,6,10,10,9,10,6,6,6,6.5,6,9,6.5,9\"\n",
    "politica = politica.split(\",\")\n",
    "politica = np.array(politica, dtype=float)\n",
    "# Economia\n",
    "economia = \"8.5,8,8.5,8.5,9,9.5,7,8.5,8,7.5,8.5,8,8.5,8,8.5,7.5,7,7.5,7.5,8.5,8,9,7,9,8.5\"\n",
    "economia = economia.split(\",\")\n",
    "economia = np.array(economia, dtype=float)\n",
    "\n",
    "data = pd.DataFrame({\n",
    "    \"funcionario\": funcionario,\n",
    "    \"secao\": secao,\n",
    "    \"administracao\": administracao,\n",
    "    \"direito\": direito,\n",
    "    \"redacao\": redacao,\n",
    "    \"estatistica\": estatistica,\n",
    "    \"ingles\": ingles,\n",
    "    \"metodologia\": metodologia,\n",
    "    \"politica\": politica,\n",
    "    \"economia\": economia\n",
    "})\n",
    "data.head()"
   ]
  },
  {
   "cell_type": "markdown",
   "metadata": {},
   "source": [
    "### A) Após observar atentamente cada variável, e com o intuito de resumi-las, como voces identificaria (qualitativa ordinal ou nominal e quantitativa discreta ou contínua cada uma das 9 variáveis listadas?"
   ]
  },
  {
   "cell_type": "code",
   "execution_count": 43,
   "metadata": {},
   "outputs": [
    {
     "data": {
      "text/markdown": [
       "\n",
       "- Funcionario: Qualitativa Nominal\n",
       "\n",
       "- Seção: Qualitativa Nominal\n",
       "\n",
       "- Administração: Quantitativa Discreta\n",
       "\n",
       "- Direito: Quantitativa Discreta\n",
       "\n",
       "- Redação: Quantitativa Continua\n",
       "\n",
       "- Estatistica: Quantitativa Discreta\n",
       "\n",
       "- Ingles: Quantitativa Ordinal\n",
       "\n",
       "- Metodologia: Quantitativa Ordinal\n",
       "\n",
       "- Politica: Quantitativa Discreta\n",
       "\n",
       "- Economia: Quantitativa Continua\n"
      ],
      "text/plain": [
       "<IPython.core.display.Markdown object>"
      ]
     },
     "execution_count": 43,
     "metadata": {},
     "output_type": "execute_result"
    }
   ],
   "source": [
    "md(\"\"\"\n",
    "- Funcionario: Qualitativa Nominal\n",
    "\n",
    "- Seção: Qualitativa Nominal\n",
    "\n",
    "- Administração: Quantitativa Discreta\n",
    "\n",
    "- Direito: Quantitativa Discreta\n",
    "\n",
    "- Redação: Quantitativa Continua\n",
    "\n",
    "- Estatistica: Quantitativa Discreta\n",
    "\n",
    "- Ingles: Quantitativa Ordinal\n",
    "\n",
    "- Metodologia: Quantitativa Ordinal\n",
    "\n",
    "- Politica: Quantitativa Discreta\n",
    "\n",
    "- Economia: Quantitativa Continua\n",
    "\"\"\")"
   ]
  },
  {
   "cell_type": "markdown",
   "metadata": {},
   "source": [
    "### B) Construa o histograma para as notas da variável Redação."
   ]
  },
  {
   "cell_type": "code",
   "execution_count": 22,
   "metadata": {},
   "outputs": [
    {
     "data": {
      "image/png": "[encoded data removed]",
      "text/plain": [
       "<Figure size 432x288 with 1 Axes>"
      ]
     },
     "metadata": {},
     "output_type": "display_data"
    }
   ],
   "source": [
    "# histograma redação\n",
    "plt.hist(redacao, bins=10)\n",
    "plt.title(\"Histograma da Redação\")\n",
    "plt.xlabel(\"Nota\")\n",
    "plt.ylabel(\"Frequência\")\n",
    "plt.show()\n"
   ]
  },
  {
   "cell_type": "markdown",
   "metadata": {},
   "source": [
    "### C) Sorteado ao acaso um dos 25 funcionários, qual é a probabilidade de que ele tenha obtido grau A em Metodologia?"
   ]
  },
  {
   "cell_type": "code",
   "execution_count": 59,
   "metadata": {},
   "outputs": [
    {
     "name": "stdout",
     "output_type": "stream",
     "text": [
      "28.0% de funcionários obtiveram grau A em Metodologia\n",
      "32.0% de funcionários obtiveram grau B em Metodologia\n",
      "40.0% de funcionários obtiveram grau C em Metodologia\n"
     ]
    }
   ],
   "source": [
    "# Sorteado ao acaso um dos 25 funcionários, qual é a probabilidade de que ele tenha obtido grau A em Metodologia?\n",
    "A = (data[\"metodologia\"].value_counts()[\"A\"] /\n",
    "     len(data[\"metodologia\"]) * 100).round(2)\n",
    "B = (data[\"metodologia\"].value_counts()[\"B\"] /\n",
    "     len(data[\"metodologia\"]) * 100).round(2)\n",
    "C = (data[\"metodologia\"].value_counts()[\"C\"] /\n",
    "     len(data[\"metodologia\"]) * 100).round(2)\n",
    "\n",
    "print(f\"{ A }% de funcionários obtiveram grau A em Metodologia\")\n",
    "print(f\"{ B }% de funcionários obtiveram grau B em Metodologia\")\n",
    "print(f\"{ C }% de funcionários obtiveram grau C em Metodologia\")"
   ]
  },
  {
   "cell_type": "markdown",
   "metadata": {},
   "source": [
    "2)Um questionário foi aplicado aos dez funcionários do setor de contabilidade de uma empresa fornecendo os dados apresentados na tabela."
   ]
  },
  {
   "cell_type": "code",
   "execution_count": 61,
   "metadata": {},
   "outputs": [
    {
     "data": {
      "text/html": [
       "<div>\n",
       "<style scoped>\n",
       "    .dataframe tbody tr th:only-of-type {\n",
       "        vertical-align: middle;\n",
       "    }\n",
       "\n",
       "    .dataframe tbody tr th {\n",
       "        vertical-align: top;\n",
       "    }\n",
       "\n",
       "    .dataframe thead th {\n",
       "        text-align: right;\n",
       "    }\n",
       "</style>\n",
       "<table border=\"1\" class=\"dataframe\">\n",
       "  <thead>\n",
       "    <tr style=\"text-align: right;\">\n",
       "      <th></th>\n",
       "      <th>Func</th>\n",
       "      <th>Curso completo</th>\n",
       "      <th>Idade</th>\n",
       "      <th>Salario</th>\n",
       "      <th>Anos de empresa</th>\n",
       "    </tr>\n",
       "  </thead>\n",
       "  <tbody>\n",
       "    <tr>\n",
       "      <th>0</th>\n",
       "      <td>1</td>\n",
       "      <td>superior</td>\n",
       "      <td>34</td>\n",
       "      <td>1100</td>\n",
       "      <td>5</td>\n",
       "    </tr>\n",
       "    <tr>\n",
       "      <th>1</th>\n",
       "      <td>2</td>\n",
       "      <td>superior</td>\n",
       "      <td>43</td>\n",
       "      <td>1450</td>\n",
       "      <td>8</td>\n",
       "    </tr>\n",
       "    <tr>\n",
       "      <th>2</th>\n",
       "      <td>3</td>\n",
       "      <td>médio</td>\n",
       "      <td>31</td>\n",
       "      <td>960</td>\n",
       "      <td>6</td>\n",
       "    </tr>\n",
       "    <tr>\n",
       "      <th>3</th>\n",
       "      <td>4</td>\n",
       "      <td>médio</td>\n",
       "      <td>37</td>\n",
       "      <td>960</td>\n",
       "      <td>8</td>\n",
       "    </tr>\n",
       "    <tr>\n",
       "      <th>4</th>\n",
       "      <td>5</td>\n",
       "      <td>médio</td>\n",
       "      <td>24</td>\n",
       "      <td>600</td>\n",
       "      <td>3</td>\n",
       "    </tr>\n",
       "  </tbody>\n",
       "</table>\n",
       "</div>"
      ],
      "text/plain": [
       "   Func Curso completo  Idade  Salario  Anos de empresa\n",
       "0     1       superior     34     1100                5\n",
       "1     2       superior     43     1450                8\n",
       "2     3          médio     31      960                6\n",
       "3     4          médio     37      960                8\n",
       "4     5          médio     24      600                3"
      ]
     },
     "execution_count": 61,
     "metadata": {},
     "output_type": "execute_result"
    }
   ],
   "source": [
    "Func  = \"1,2,3,4,5,6,7,8,9,10\"\n",
    "Func = Func.split(\",\")\n",
    "Func = np.array(Func, dtype=int)\n",
    "\n",
    "Curso_completo = \"superior,superior,médio,médio,médio,médio,médio,médio,fundamental,fundamental\"\n",
    "Curso_completo = Curso_completo.split(\",\")\n",
    "Curso_completo = np.array(Curso_completo, dtype=str)\n",
    "\n",
    "Idade = \"34,43,31,37,24,25,27,22,21,26\"\n",
    "Idade = Idade.split(\",\")\n",
    "Idade = np.array(Idade, dtype=int)\n",
    "\n",
    "Salario = \"1100,1450,960,960,600,600,600,450,450,450\"\n",
    "Salario = Salario.split(\",\")\n",
    "Salario = np.array(Salario, dtype=int)\n",
    "\n",
    "Anos_de_empresa = \"5,8,6,8,3,2,5,2,3,3\"\n",
    "Anos_de_empresa = Anos_de_empresa.split(\",\")\n",
    "Anos_de_empresa = np.array(Anos_de_empresa, dtype=int)\n",
    "\n",
    "data = pd.DataFrame({\n",
    "    \"Func\": Func,\n",
    "    \"Curso completo\": Curso_completo,\n",
    "    \"Idade\": Idade,\n",
    "    \"Salario\": Salario,\n",
    "    \"Anos de empresa\": Anos_de_empresa\n",
    "})\n",
    "data.head()"
   ]
  },
  {
   "cell_type": "markdown",
   "metadata": {},
   "source": [
    "### a. Classifique cada uma das variáveis"
   ]
  },
  {
   "cell_type": "code",
   "execution_count": 62,
   "metadata": {},
   "outputs": [
    {
     "data": {
      "text/markdown": [
       "\n",
       "- Funcionario: Qualitativa Nominal\n",
       "\n",
       "- Curso completo: Qualitativa Ordinal\n",
       "\n",
       "- Idade: Quantitativa Discreta\n",
       "\n",
       "- Salario: Quantitativa Continua\n",
       "\n",
       "- Anos de empresa: Quantitativa Discreta\n"
      ],
      "text/plain": [
       "<IPython.core.display.Markdown object>"
      ]
     },
     "execution_count": 62,
     "metadata": {},
     "output_type": "execute_result"
    }
   ],
   "source": [
    "md(\"\"\"\n",
    "- Funcionario: Qualitativa Nominal\n",
    "\n",
    "- Curso completo: Qualitativa Ordinal\n",
    "\n",
    "- Idade: Quantitativa Discreta\n",
    "\n",
    "- Salario: Quantitativa Continua\n",
    "\n",
    "- Anos de empresa: Quantitativa Discreta\n",
    "\"\"\")"
   ]
  }
 ],
 "metadata": {
  "interpreter": {
   "hash": "e7370f93d1d0cde622a1f8e1c04877d8463912d04d973331ad4851f04de6915a"
  },
  "kernelspec": {
   "display_name": "Python 3.10.4 64-bit",
   "language": "python",
   "name": "python3"
  },
  "language_info": {
   "codemirror_mode": {
    "name": "ipython",
    "version": 3
   },
   "file_extension": ".py",
   "mimetype": "text/x-python",
   "name": "python",
   "nbconvert_exporter": "python",
   "pygments_lexer": "ipython3",
   "version": "3.10.4"
  },
  "orig_nbformat": 4
 },
 "nbformat": 4,
 "nbformat_minor": 2
}
