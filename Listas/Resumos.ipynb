{
 "cells": [
  {
   "cell_type": "markdown",
   "metadata": {},
   "source": [
    "### Estatística definição: A ciência que monta modelos proplásticos para estimar as condições de uma população."
   ]
  },
  {
   "cell_type": "markdown",
   "metadata": {},
   "source": [
    "Na estática temos variáveis, e uma variável possui valores diferentes para cada elemento.\n",
    "\n",
    "As variáveis podem ser qualitativa ou quantitativa.\n",
    "\n",
    "Qualitativa ou Quantitativa podem ser divididas nos subgrupos.\n",
    "\n",
    "- Variável Qualitativa: é uma variável que assume como possíveis valores atributos ou qualidades. Também são denominadas variáveis categóricas.\n",
    "\n",
    "- Variável Quantitativa: é uma variável que assume como possíveis valores, números.\n",
    "\n",
    "- Variável Qualitativa Nominal: é uma variável que assume como possíveis valores atributos ou qualidades e estes não apresentam uma ordem natural de ocorrência.\n",
    "\n",
    "- Variável Qualitativa Ordinal: é uma variável que assume como possíveis valores atributos ou qualidades e estes apresentam uma ordem natural de ocorrência."
   ]
  },
  {
   "cell_type": "code",
   "execution_count": null,
   "metadata": {},
   "outputs": [],
   "source": []
  }
 ],
 "metadata": {
  "interpreter": {
   "hash": "e7370f93d1d0cde622a1f8e1c04877d8463912d04d973331ad4851f04de6915a"
  },
  "kernelspec": {
   "display_name": "Python 3.10.4 64-bit",
   "language": "python",
   "name": "python3"
  },
  "language_info": {
   "name": "python",
   "version": "3.10.4"
  },
  "orig_nbformat": 4
 },
 "nbformat": 4,
 "nbformat_minor": 2
}
